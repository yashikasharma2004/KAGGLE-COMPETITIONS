{
  "nbformat": 4,
  "nbformat_minor": 0,
  "metadata": {
    "colab": {
      "provenance": []
    },
    "kernelspec": {
      "name": "python3",
      "display_name": "Python 3"
    },
    "language_info": {
      "name": "python"
    }
  },
  "cells": [
    {
      "cell_type": "code",
      "source": [
        "# ===========================================\n",
        "# Improved Regression Pipeline with Ensemble\n",
        "# ===========================================\n",
        "\n",
        "import pandas as pd\n",
        "import numpy as np\n",
        "from sklearn.model_selection import train_test_split\n",
        "from sklearn.preprocessing import StandardScaler\n",
        "from sklearn.linear_model import LinearRegression\n",
        "from sklearn.ensemble import RandomForestRegressor, GradientBoostingRegressor\n",
        "from sklearn.metrics import mean_squared_error\n",
        "\n",
        "# 1. Load Data\n",
        "train = pd.read_csv(\"train.csv\")\n",
        "test = pd.read_csv(\"test.csv\")\n",
        "sample_submission = pd.read_csv(\"sample_submission.csv\")\n",
        "\n",
        "# 2. Separate features and target\n",
        "X = train.drop(columns=[\"target\"])\n",
        "y = train[\"target\"]\n",
        "\n",
        "# 3. Scale features\n",
        "scaler = StandardScaler()\n",
        "X_scaled = scaler.fit_transform(X)\n",
        "\n",
        "if \"id\" in test.columns:\n",
        "    test_features = test.drop(columns=[\"id\"])\n",
        "else:\n",
        "    test_features = test\n",
        "test_scaled = scaler.transform(test_features)\n",
        "\n",
        "# 4. Train-validation split\n",
        "X_train, X_valid, y_train, y_valid = train_test_split(\n",
        "    X_scaled, y, test_size=0.2, random_state=42\n",
        ")\n",
        "\n",
        "# 5. Define models\n",
        "models = {\n",
        "    \"LinearRegression\": LinearRegression(),\n",
        "    \"RandomForest\": RandomForestRegressor(n_estimators=300, max_depth=15, random_state=42),\n",
        "    \"GradientBoosting\": GradientBoostingRegressor(n_estimators=500, learning_rate=0.05, max_depth=5, random_state=42)\n",
        "}\n",
        "\n",
        "# 6. Train & Validate\n",
        "valid_preds = {}\n",
        "for name, model in models.items():\n",
        "    model.fit(X_train, y_train)\n",
        "    preds = model.predict(X_valid)\n",
        "    rmse = np.sqrt(mean_squared_error(y_valid, preds))\n",
        "    print(f\"{name} RMSE: {rmse:.4f}\")\n",
        "    valid_preds[name] = preds\n",
        "\n",
        "# 7. Ensemble (average predictions)\n",
        "ensemble_valid = np.mean(list(valid_preds.values()), axis=0)\n",
        "ensemble_rmse = np.sqrt(mean_squared_error(y_valid, ensemble_valid))\n",
        "print(f\"\\nEnsemble RMSE: {ensemble_rmse:.4f}\")\n",
        "\n",
        "# 8. Final prediction on test set (average of models)\n",
        "test_preds = []\n",
        "for name, model in models.items():\n",
        "    test_preds.append(model.predict(test_scaled))\n",
        "\n",
        "final_test_pred = np.mean(test_preds, axis=0)\n",
        "\n",
        "# 9. Create submission\n",
        "submission = sample_submission.copy()\n",
        "submission[\"target\"] = final_test_pred\n",
        "submission.to_csv(\"submission.csv\", index=False)\n",
        "\n",
        "print(\"\\n✅ Improved submission file saved as submission.csv\")\n",
        "print(submission.head())\n"
      ],
      "metadata": {
        "colab": {
          "base_uri": "https://localhost:8080/"
        },
        "id": "4kELthi2Jvov",
        "outputId": "161994e3-fcd2-4e29-a491-814827566345"
      },
      "execution_count": 14,
      "outputs": [
        {
          "output_type": "stream",
          "name": "stdout",
          "text": [
            "LinearRegression RMSE: 17.2640\n",
            "RandomForest RMSE: 20.6356\n",
            "GradientBoosting RMSE: 12.3238\n",
            "\n",
            "Ensemble RMSE: 15.1598\n",
            "\n",
            "✅ Improved submission file saved as submission.csv\n",
            "   id      target\n",
            "0   1  190.173973\n",
            "1   2  191.086382\n",
            "2   3  174.356416\n",
            "3   4  179.858810\n",
            "4   5  169.728403\n"
          ]
        }
      ]
    }
  ]
}