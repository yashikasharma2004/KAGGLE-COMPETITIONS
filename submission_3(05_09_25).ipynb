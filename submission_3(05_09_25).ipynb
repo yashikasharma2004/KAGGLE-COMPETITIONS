{
  "nbformat": 4,
  "nbformat_minor": 0,
  "metadata": {
    "colab": {
      "provenance": []
    },
    "kernelspec": {
      "name": "python3",
      "display_name": "Python 3"
    },
    "language_info": {
      "name": "python"
    }
  },
  "cells": [
    {
      "cell_type": "code",
      "source": [
        "import pandas as pd\n",
        "import numpy as np\n",
        "from sklearn.model_selection import train_test_split\n",
        "from sklearn.metrics import mean_squared_error\n",
        "from sklearn.ensemble import RandomForestRegressor\n",
        "\n",
        "# 1. Load data\n",
        "train = pd.read_csv(\"train.csv\")\n",
        "test = pd.read_csv(\"test.csv\")\n",
        "sample_submission = pd.read_csv(\"sample_submission.csv\")\n",
        "\n",
        "# 2. Features and target\n",
        "if \"id\" in train.columns:\n",
        "    X = train.drop(columns=[\"id\", \"target\"])\n",
        "else:\n",
        "    X = train.drop(columns=[\"target\"])\n",
        "\n",
        "y = train[\"target\"]\n",
        "\n",
        "if \"id\" in test.columns:\n",
        "    X_test = test.drop(columns=[\"id\"])\n",
        "else:\n",
        "    X_test = test\n",
        "\n",
        "# 3. Train-validation split\n",
        "X_train, X_valid, y_train, y_valid = train_test_split(\n",
        "    X, y, test_size=0.2, random_state=42\n",
        ")\n",
        "\n",
        "# 4. RandomForest model\n",
        "rf_model = RandomForestRegressor(\n",
        "    n_estimators=500,\n",
        "    max_depth=15,\n",
        "    random_state=42,\n",
        "    n_jobs=-1\n",
        ")\n",
        "\n",
        "rf_model.fit(X_train, y_train)\n",
        "\n",
        "# 5. Validation performance (manual RMSE for old sklearn)\n",
        "valid_pred = rf_model.predict(X_valid)\n",
        "mse = mean_squared_error(y_valid, valid_pred)\n",
        "rmse = np.sqrt(mse)\n",
        "print(\"✅ Validation RMSE:\", rmse)\n",
        "\n",
        "# 6. Test predictions\n",
        "final_pred = rf_model.predict(X_test)\n",
        "\n",
        "# 7. Submission file\n",
        "submission = sample_submission.copy()\n",
        "submission[\"target\"] = final_pred\n",
        "submission.to_csv(\"submission.csv\", index=False)\n",
        "\n",
        "print(\"🎉 Submission file created: submission.csv\")\n",
        "print(submission.head())\n"
      ],
      "metadata": {
        "colab": {
          "base_uri": "https://localhost:8080/"
        },
        "id": "4kELthi2Jvov",
        "outputId": "fd54e15b-f636-48db-86d3-d145e5448230"
      },
      "execution_count": 33,
      "outputs": [
        {
          "output_type": "stream",
          "name": "stdout",
          "text": [
            "✅ Validation RMSE: 20.605999743143325\n",
            "🎉 Submission file created: submission.csv\n",
            "   id      target\n",
            "0   1  181.998838\n",
            "1   2  188.606316\n",
            "2   3  171.977723\n",
            "3   4  174.825734\n",
            "4   5  176.515307\n"
          ]
        }
      ]
    }
  ]
}